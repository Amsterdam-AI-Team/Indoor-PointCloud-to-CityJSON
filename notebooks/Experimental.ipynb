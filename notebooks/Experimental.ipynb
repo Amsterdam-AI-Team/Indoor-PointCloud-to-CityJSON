{
 "cells": [
  {
   "cell_type": "code",
   "execution_count": 1,
   "metadata": {},
   "outputs": [],
   "source": [
    "import sys\n",
    "sys.path.append('../')"
   ]
  },
  {
   "cell_type": "code",
   "execution_count": 2,
   "metadata": {},
   "outputs": [],
   "source": [
    "import numpy as np\n",
    "import open3d as o3d\n",
    "import pymeshlab\n",
    "import subprocess\n",
    "from pathlib import Path\n",
    "\n",
    "from src.utils import pcd_utils"
   ]
  },
  {
   "cell_type": "code",
   "execution_count": 27,
   "metadata": {},
   "outputs": [],
   "source": [
    "import os"
   ]
  },
  {
   "cell_type": "markdown",
   "metadata": {},
   "source": [
    "#### Load pointcloud"
   ]
  },
  {
   "cell_type": "code",
   "execution_count": 12,
   "metadata": {},
   "outputs": [],
   "source": [
    "in_file = '../../CityJSON/kwekerij_3d/ply_rooms/room_6.ply'"
   ]
  },
  {
   "cell_type": "code",
   "execution_count": 63,
   "metadata": {},
   "outputs": [
    {
     "name": "stdout",
     "output_type": "stream",
     "text": [
      "5 (126380, 3) (44281, 3)\n"
     ]
    },
    {
     "name": "stderr",
     "output_type": "stream",
     "text": [
      "Estimating normals..."
     ]
    },
    {
     "data": {
      "text/plain": [
       "CompletedProcess(args=['../modules/polyfit_ransac', './in.ply', '.', '0.01', '100', '0.05', '1.5', '0.7', '0.5', '0.27', '0.23'], returncode=0)"
      ]
     },
     "execution_count": 63,
     "metadata": {},
     "output_type": "execute_result"
    }
   ],
   "source": [
    "exe = '../modules/polyfit_ransac'\n",
    "\n",
    "i = 5\n",
    "in_file = '../datasets/test/raw_'+str(i)+'.ply'\n",
    "pcd = pcd_utils.read_pointcloud(in_file)\n",
    "points = np.asarray(pcd.points)\n",
    "b = points.shape\n",
    "pcd = pcd.voxel_down_sample(0.1)\n",
    "points = np.asarray(pcd.points)\n",
    "a = points.shape\n",
    "print(i,b,a)\n",
    "\n",
    "pcd = o3d.t.geometry.PointCloud(o3d.core.Tensor(points, o3d.core.float32))\n",
    "o3d.t.io.write_point_cloud('./in.ply', pcd, write_ascii=True)\n",
    "\n",
    "subprocess.run([exe, './in.ply', '.','0.01','150','0.05','1.5','0.6','0.5','0.27','0.23'],\n",
    "        timeout=25, check=True, stdout=subprocess.DEVNULL)"
   ]
  },
  {
   "cell_type": "markdown",
   "metadata": {},
   "source": [
    "#### Reconstruct Surface"
   ]
  },
  {
   "cell_type": "code",
   "execution_count": 24,
   "metadata": {},
   "outputs": [],
   "source": [
    "pcd.colors = o3d.utility.Vector3dVector(np.full((len(pcd.points), 3), [100,100,0]))\n",
    "o3d.visualization.draw_geometries([pcd])"
   ]
  },
  {
   "cell_type": "code",
   "execution_count": 25,
   "metadata": {},
   "outputs": [
    {
     "data": {
      "text/plain": [
       "True"
      ]
     },
     "execution_count": 25,
     "metadata": {},
     "output_type": "execute_result"
    }
   ],
   "source": []
  },
  {
   "cell_type": "code",
   "execution_count": 26,
   "metadata": {},
   "outputs": [
    {
     "name": "stderr",
     "output_type": "stream",
     "text": [
      "Estimating normals..."
     ]
    },
    {
     "data": {
      "text/plain": [
       "CompletedProcess(args=['../modules/polyfit_ransac', './in.ply', '.', '0.01', '200', '0.05', '1.5', '0.5', '0.5', '0.27', '0.23'], returncode=0)"
      ]
     },
     "execution_count": 26,
     "metadata": {},
     "output_type": "execute_result"
    }
   ],
   "source": [
    "import skgeom as sg\n",
    "from skgeom.draw import draw"
   ]
  },
  {
   "cell_type": "code",
   "execution_count": null,
   "metadata": {},
   "outputs": [],
   "source": [
    "polys[4][0]"
   ]
  },
  {
   "cell_type": "code",
   "execution_count": null,
   "metadata": {},
   "outputs": [],
   "source": [
    "poly_points = np.vstack(polys[4][0].exterior.xy).T\n",
    "print(poly_points.shape)\n",
    "poly = sg.Polygon(poly_points)\n",
    "sg.draw.draw(poly, facecolor=\"red\")\n",
    "res = sg.simplify(poly, .1, \"sqeuclidean\",preserve_topology=False)  # try to remove 50% of the vertices\n",
    "sg.draw.draw(res)"
   ]
  }
 ],
 "metadata": {
  "kernelspec": {
   "display_name": "Python 3.8.2 ('t3d_env')",
   "language": "python",
   "name": "python3"
  },
  "language_info": {
   "codemirror_mode": {
    "name": "ipython",
    "version": 3
   },
   "file_extension": ".py",
   "mimetype": "text/x-python",
   "name": "python",
   "nbconvert_exporter": "python",
   "pygments_lexer": "ipython3",
   "version": "3.8.2"
  },
  "vscode": {
   "interpreter": {
    "hash": "f57f7d9456f5b7dc730d015ec7d854ad65788762049c2fb9123860f88d8941f7"
   }
  }
 },
 "nbformat": 4,
 "nbformat_minor": 2
}
