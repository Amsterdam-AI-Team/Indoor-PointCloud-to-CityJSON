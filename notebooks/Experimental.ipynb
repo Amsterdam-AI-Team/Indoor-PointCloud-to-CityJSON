{
 "cells": [
  {
   "cell_type": "code",
   "execution_count": null,
   "metadata": {},
   "outputs": [],
   "source": [
    "import sys\n",
    "sys.path.append('../')"
   ]
  },
  {
   "cell_type": "code",
   "execution_count": null,
   "metadata": {},
   "outputs": [],
   "source": [
    "import numpy as np\n",
    "import open3d as o3d\n",
    "import pymeshlab\n",
    "import subprocess\n",
    "from pathlib import Path\n",
    "\n",
    "from src.utils import pcd_utils"
   ]
  },
  {
   "cell_type": "code",
   "execution_count": null,
   "metadata": {},
   "outputs": [],
   "source": [
    "import os"
   ]
  },
  {
   "cell_type": "code",
   "execution_count": null,
   "metadata": {},
   "outputs": [],
   "source": [
    "import skgeom as sg\n",
    "from skgeom.draw import draw"
   ]
  },
  {
   "cell_type": "code",
   "execution_count": null,
   "metadata": {},
   "outputs": [],
   "source": [
    "polys[4][0]"
   ]
  },
  {
   "cell_type": "code",
   "execution_count": null,
   "metadata": {},
   "outputs": [],
   "source": [
    "poly_points = np.vstack(polys[4][0].exterior.xy).T\n",
    "print(poly_points.shape)\n",
    "poly = sg.Polygon(poly_points)\n",
    "sg.draw.draw(poly, facecolor=\"red\")\n",
    "res = sg.simplify(poly, .1, \"sqeuclidean\",preserve_topology=False)  # try to remove 50% of the vertices\n",
    "sg.draw.draw(res)"
   ]
  }
 ],
 "metadata": {
  "kernelspec": {
   "display_name": "Python 3.8.2 ('t3d_env')",
   "language": "python",
   "name": "python3"
  },
  "language_info": {
   "codemirror_mode": {
    "name": "ipython",
    "version": 3
   },
   "file_extension": ".py",
   "mimetype": "text/x-python",
   "name": "python",
   "nbconvert_exporter": "python",
   "pygments_lexer": "ipython3",
   "version": "3.8.2"
  },
  "vscode": {
   "interpreter": {
    "hash": "f57f7d9456f5b7dc730d015ec7d854ad65788762049c2fb9123860f88d8941f7"
   }
  }
 },
 "nbformat": 4,
 "nbformat_minor": 2
}
