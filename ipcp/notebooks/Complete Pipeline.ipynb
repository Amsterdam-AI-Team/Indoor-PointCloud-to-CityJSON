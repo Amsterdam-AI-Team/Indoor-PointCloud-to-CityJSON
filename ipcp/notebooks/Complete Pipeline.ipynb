{
 "cells": [
  {
   "cell_type": "code",
   "execution_count": null,
   "metadata": {},
   "outputs": [],
   "source": [
    "import sys\n",
    "sys.path.append('../')"
   ]
  },
  {
   "cell_type": "code",
   "execution_count": null,
   "metadata": {},
   "outputs": [],
   "source": [
    "import numpy as np\n",
    "import open3d as o3d\n",
    "import time\n",
    "import logging\n",
    "from tqdm import tqdm\n",
    "import pymeshlab\n",
    "import matplotlib.pyplot as plt\n",
    "\n",
    "from src.utils import pcd_utils\n",
    "from src.utils import cityjson_utils\n",
    "from src.utils import log_utils\n",
    "from src.utils import plot_utils\n",
    "\n",
    "from preprocessors.sor import SOR\n",
    "from preprocessors.spatial_subsample import SpatialSubsample\n",
    "from modules.floor_split import FloorSplitter\n",
    "from modules.room_detection import RoomDetector\n",
    "from modules.primitive_detection import PrimitiveDetector\n",
    "from modules.room_reconstruct import RoomReconstructor\n",
    "from modules.mesh_stats import MeshAnalyser\n"
   ]
  },
  {
   "cell_type": "markdown",
   "metadata": {},
   "source": [
    "#### Load the interior PointCloud"
   ]
  },
  {
   "cell_type": "code",
   "execution_count": null,
   "metadata": {},
   "outputs": [],
   "source": [
    "in_file = '../datasets/stadskwekerij_subsampled.ply'"
   ]
  },
  {
   "cell_type": "code",
   "execution_count": null,
   "metadata": {},
   "outputs": [],
   "source": [
    "pcd = pcd_utils.read_pointcloud(in_file)\n",
    "len(pcd.points)"
   ]
  },
  {
   "cell_type": "markdown",
   "metadata": {},
   "source": [
    "#### 1. Preprocessing"
   ]
  },
  {
   "cell_type": "code",
   "execution_count": null,
   "metadata": {},
   "outputs": [],
   "source": [
    "ss = SpatialSubsample(min_distance=0.03)\n",
    "sor = SOR(knn=6, n_sigma=2)\n",
    "\n",
    "preprocessors = [ss, sor]\n",
    "\n",
    "for obj in preprocessors:\n",
    "    start = time.time()\n",
    "    pcd = obj.process(pcd)\n",
    "    duration = time.time() - start\n",
    "    print(f'Processor finished in {duration:.2f}s, {len(pcd.points)} points.') "
   ]
  },
  {
   "cell_type": "markdown",
   "metadata": {},
   "source": [
    "#### 2. Primitive Detection"
   ]
  },
  {
   "cell_type": "code",
   "execution_count": null,
   "metadata": {},
   "outputs": [],
   "source": [
    "ransac_exe_path = '../cpp_modules/efficient_ransac'\n",
    "primitive_detector = PrimitiveDetector(ransac_exe_path)\n",
    "\n",
    "pcd, primitives, primitive_labels = primitive_detector.process(pcd)"
   ]
  },
  {
   "cell_type": "code",
   "execution_count": null,
   "metadata": {},
   "outputs": [],
   "source": [
    "# plot_utils.show_pcd(pcd, primitive_labels)"
   ]
  },
  {
   "cell_type": "markdown",
   "metadata": {},
   "source": [
    "#### 3. Detect Floors"
   ]
  },
  {
   "cell_type": "code",
   "execution_count": null,
   "metadata": {},
   "outputs": [],
   "source": [
    "floor_splitter = FloorSplitter()\n",
    "floors = floor_splitter.process(pcd, primitive_labels, primitives)\n",
    "\n",
    "print(f'Done. Detected {len(floors)} rooms.')"
   ]
  },
  {
   "cell_type": "code",
   "execution_count": null,
   "metadata": {},
   "outputs": [],
   "source": [
    "# plot_utils.show_pcd_floors(pcd, floors)"
   ]
  },
  {
   "cell_type": "markdown",
   "metadata": {},
   "source": [
    "#### 4. Room Detection"
   ]
  },
  {
   "cell_type": "code",
   "execution_count": null,
   "metadata": {},
   "outputs": [],
   "source": [
    "room_detector = RoomDetector(plot=False)\n",
    "\n",
    "rooms = []\n",
    "for floor_mask in floors:\n",
    "    floor_pcd = pcd.select_by_index(np.where(floor_mask)[0])\n",
    "    floor_labels = primitive_labels[floor_mask]\n",
    "    floor_rooms, floor_labels = room_detector.process(floor_pcd, floor_labels)\n",
    "    primitive_labels[floor_mask] = floor_labels\n",
    "    for room_i in range(floor_rooms.shape[1]):\n",
    "        room_mask = np.zeros(len(pcd.points), dtype=bool)\n",
    "        room_mask[floor_mask] = floor_rooms[:,room_i]\n",
    "        rooms.append(room_mask)\n",
    "            \n",
    "print(f'Done. Detected {len(rooms)} rooms.')"
   ]
  },
  {
   "cell_type": "markdown",
   "metadata": {},
   "source": [
    "#### 5. Room Reconstruction"
   ]
  },
  {
   "cell_type": "code",
   "execution_count": null,
   "metadata": {},
   "outputs": [],
   "source": [
    "# room_reconstructor = RoomReconstructor()\n",
    "room_reconstructor = RoomReconstructor('../cpp_modules/polyfit_ransac', '../cpp_modules/polyfit')\n",
    "\n",
    "room_meshes = []\n",
    "failed = []\n",
    "for i in tqdm(np.arange(len(rooms))):\n",
    "    room_mask = rooms[i]\n",
    "    room_pts = np.asarray(pcd.points)[room_mask]\n",
    "\n",
    "    meshset = room_reconstructor.process(room_pts, primitive_labels[room_mask], primitives)\n",
    "    if meshset is None:\n",
    "        failed.append(i)\n",
    "    else:\n",
    "        room_meshes.append(meshset)\n",
    "\n",
    "print(f'Failed to reconstruct rooms {failed}')"
   ]
  },
  {
   "cell_type": "markdown",
   "metadata": {},
   "source": [
    "#### 6. CityJSON Export"
   ]
  },
  {
   "cell_type": "code",
   "execution_count": null,
   "metadata": {},
   "outputs": [],
   "source": [
    "out_path = '../datasets/output.city.json'\n",
    "\n",
    "cityjson = cityjson_utils.to_cityjson_v1(room_meshes)\n",
    "cityjson_utils.save_to_file(cityjson, out_path)"
   ]
  },
  {
   "cell_type": "markdown",
   "metadata": {},
   "source": [
    "#### 7. Room Statistics"
   ]
  },
  {
   "cell_type": "code",
   "execution_count": null,
   "metadata": {},
   "outputs": [],
   "source": [
    "mesh_analyser = MeshAnalyser()  \n",
    "\n",
    "for i in range(len(room_meshes)):\n",
    "    room_mesh = room_meshes[i]\n",
    "    volume, floorarea = mesh_analyser.process(room_mesh)\n",
    "    try: \n",
    "        print(f'Room {i}: {volume:.2f}, {floorarea:.2f}')\n",
    "    except:\n",
    "        print(type(volume), type(floorarea))"
   ]
  },
  {
   "cell_type": "code",
   "execution_count": null,
   "metadata": {},
   "outputs": [],
   "source": []
  }
 ],
 "metadata": {
  "kernelspec": {
   "display_name": "Python 3 (ipykernel)",
   "language": "python",
   "name": "python3"
  },
  "language_info": {
   "codemirror_mode": {
    "name": "ipython",
    "version": 3
   },
   "file_extension": ".py",
   "mimetype": "text/x-python",
   "name": "python",
   "nbconvert_exporter": "python",
   "pygments_lexer": "ipython3",
   "version": "3.8.10"
  },
  "vscode": {
   "interpreter": {
    "hash": "f57f7d9456f5b7dc730d015ec7d854ad65788762049c2fb9123860f88d8941f7"
   }
  }
 },
 "nbformat": 4,
 "nbformat_minor": 2
}
